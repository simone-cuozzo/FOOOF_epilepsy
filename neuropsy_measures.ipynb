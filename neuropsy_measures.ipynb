{
 "cells": [
  {
   "cell_type": "code",
   "execution_count": 16,
   "metadata": {},
   "outputs": [],
   "source": [
    "import numpy as np\n",
    "import mat73\n",
    "from IPython.display import display\n",
    "import data_utils\n",
    "import importlib\n",
    "importlib.reload(data_utils)\n",
    "from data_utils import nan_sanity_check, calculate_correlation\n",
    "from plot_functions import reorganize_roi_gradient, reorder_hemispheres\n",
    "import pickle\n",
    "import pandas as pd\n",
    "import scipy\n",
    "import enigmatoolbox\n",
    "from enigmatoolbox.utils.parcellation import parcel_to_surface\n",
    "from enigmatoolbox.plotting import plot_cortical\n",
    "import mne \n",
    "from mne.stats import fdr_correction\n"
   ]
  },
  {
   "cell_type": "code",
   "execution_count": 2,
   "metadata": {},
   "outputs": [],
   "source": [
    "data_epi = mat73.loadmat(\"data//EPI_data.mat\")\n",
    "data_epi = data_epi['EPI_data']\n",
    "\n",
    "data_HC = mat73.loadmat(\"data//HC_data.mat\")\n",
    "data_HC = data_HC['HC_data']\n",
    "\n",
    "epi_labels = [int(value[2]) for value in data_epi]\n",
    "key_labels = [f\"sub{i+1}\" for i in range(len(epi_labels))]\n",
    "epi_labels_dict = dict(zip(key_labels, epi_labels))\n",
    "\n",
    "del(data_epi); del(data_HC)"
   ]
  },
  {
   "cell_type": "code",
   "execution_count": 3,
   "metadata": {},
   "outputs": [
    {
     "name": "stdout",
     "output_type": "stream",
     "text": [
      "No Nan values present in group EPI 1-35\n",
      "No Nan values present in group HC 1-35\n"
     ]
    }
   ],
   "source": [
    "### Loading of the already calculated FOOOF exponents dictionaries ###\n",
    "with open('fooof_data_HC_1_35.pkl', 'rb') as file:\n",
    "    fooof_dict_HC = pickle.load(file)\n",
    "with open('fooof_data_EPI_1_35.pkl', 'rb') as file:\n",
    "    fooof_dict_EPI = pickle.load(file)\n",
    "\n",
    "### checking for NaN values deriving from unsuccesful FOOOF calculations ###\n",
    "nan_sanity_check(fooof_dict_EPI, 'EPI 1-35')\n",
    "nan_sanity_check(fooof_dict_HC, 'HC 1-35')\n",
    "\n",
    "### Loading of the scores of the epileptic patients in different clinical/neuropsychologica scores in a dataframe ###\n",
    "measures_df_1_35 = pd.read_csv('data\\\\neuropsy_scores.csv', sep=';', decimal=\",\",thousands='.', na_values=['-','--','---'])"
   ]
  },
  {
   "cell_type": "code",
   "execution_count": 11,
   "metadata": {},
   "outputs": [],
   "source": [
    "### removing subjects already excluded from the epileptic patients time series ###\n",
    "\n",
    "for idx in [2,18,45,55,66]:\n",
    "  measures_df_1_35.drop(measures_df_1_35[measures_df_1_35['Number_of_SJ'] == idx].index, inplace=True)\n",
    "\n",
    "measures_df_1_35.shape"
   ]
  },
  {
   "cell_type": "code",
   "execution_count": 37,
   "metadata": {},
   "outputs": [],
   "source": [
    "list_fooof = [list(value) for value in fooof_dict_EPI.values()]\n",
    "average_fooof_1_35 = np.array(list_fooof).mean(axis=0)\n",
    "\n",
    "measures_df_1_35['fooof'] = [fooof_dict_EPI[f'sub{sub}'] for sub in measures_df_1_35['Number_of_SJ']]"
   ]
  },
  {
   "cell_type": "code",
   "execution_count": 38,
   "metadata": {},
   "outputs": [],
   "source": [
    "### Creating a nested dict for every epiulepsy sub-diagnosis \n",
    "alpha = 0.05\n",
    "\n",
    "measures_list = ['ieds','onset','duration','drugs','corsi','ltm_ve_imm','ltm_ve_diff','rey_copy','rey_reproduction','qit','tmta','tmtb']\n",
    "significance_check = []\n",
    "\n",
    "corrected_total_correlation_df = pd.DataFrame()\n",
    "\n",
    "#sub_groups_descriptions = ['All TLE', 'Left TLE', 'Right TLE', 'Bilateral TLE']\n",
    "columns_list = measures_df_1_35.columns[1:]\n",
    "\n",
    "#inner loop for the measures of interes\n",
    "for measure, column in zip(measures_list, columns_list):\n",
    "  ###  RISOLVERE IL PROBLEMA DEL DROPNA E SIAMO A CAVALLO ###\n",
    "  dropna_df = measures_df_1_35[['fooof', column]].dropna(subset = [column], inplace = False, axis = 0)\n",
    "  np.shape(dropna_df)\n",
    "\n",
    "  corrected_corr, corrected_p_value, corrected_mask = calculate_correlation(dropna_df['fooof'].tolist(), dropna_df[column].tolist(), type='spearman', alpha=alpha, fdr=True) \n",
    "  check = 0\n",
    "  for roi in corrected_mask:\n",
    "    if roi == 0:\n",
    "      continue\n",
    "    elif roi != 0:\n",
    "      check = 1\n",
    "      break\n",
    "  significance_check.append(check)\n",
    "  corrected_total_correlation_df[measure] = (corrected_corr, corrected_p_value, corrected_mask)"
   ]
  },
  {
   "cell_type": "code",
   "execution_count": 39,
   "metadata": {},
   "outputs": [
    {
     "name": "stdout",
     "output_type": "stream",
     "text": [
      "The only clinical/neuropsycological measures that significantly correlates with EPI FOOOF exponent in at least one ROI are ['drugs', 'ltm_ve_imm']\n"
     ]
    }
   ],
   "source": [
    "significant_scores = [measures_list[idx] for idx, value in enumerate(significance_check) if value == 1]\n",
    "print(f'The only clinical/neuropsycological measures that significantly correlates with EPI FOOOF exponent in at least one ROI are {significant_scores}')"
   ]
  },
  {
   "cell_type": "code",
   "execution_count": 35,
   "metadata": {},
   "outputs": [],
   "source": [
    "interactive = True\n",
    "### to correctly plot the gradients obtained from BrainStorm data some indeces transformations are necessary with reorder_emispheres() and reorganize_roi_gradients()\n",
    "\n",
    "# Map parcellated data to the surface\n",
    "mat = []\n",
    "# column value determines wich column of the correlation dataframe (that is, which score) is chosen for the plot\n",
    "for vec in [corrected_total_correlation_df['drugs'][2], corrected_total_correlation_df['ltm_ve_imm'][2]]:\n",
    "    corr_mat_plot = reorganize_roi_gradient(reorder_hemispheres(vec))\n",
    "    corr_mat_plot = (parcel_to_surface(corr_mat_plot, 'aparc_fsa5'))\n",
    "    mat.append(corr_mat_plot)\n",
    "\n",
    "# Project the results on the surface brain\n",
    "if interactive==True:\n",
    "    # Project the results on the surface brain\n",
    "    plot_cortical(array_name=mat, surface_name=\"fsa5\", size=(4000, 2800), label_text= {'left':['Drugs','RAVLT imm recall']}, background=(1,1,1), transparent_bg = False, interactive = True, cmap='RdBu_r', color_bar=True, scale=(1,1), zoom = 1.25, color_range=(-0.49, 0.41))\n",
    "else:\n",
    "    plot_cortical(array_name=mat, surface_name=\"fsa5\", size=(4000, 2800), screenshot= True, filename=f'IMMAGINI PER PAPER\\\\Spearman Correlation All TLE fooof vs {column} 1-35 Hz alpha {alpha} FDR corrected.jpeg', background=(1,1,1), transparent_bg = False, interactive = False, cmap='RdBu_r', color_bar=True, scale=(1,1), embed_nb = True, zoom = 1.25, color_range='sym')\n",
    "\n",
    "### for the plot refer to the images folder ###"
   ]
  }
 ],
 "metadata": {
  "kernelspec": {
   "display_name": "mne",
   "language": "python",
   "name": "python3"
  },
  "language_info": {
   "codemirror_mode": {
    "name": "ipython",
    "version": 3
   },
   "file_extension": ".py",
   "mimetype": "text/x-python",
   "name": "python",
   "nbconvert_exporter": "python",
   "pygments_lexer": "ipython3",
   "version": "3.10.10"
  }
 },
 "nbformat": 4,
 "nbformat_minor": 2
}
